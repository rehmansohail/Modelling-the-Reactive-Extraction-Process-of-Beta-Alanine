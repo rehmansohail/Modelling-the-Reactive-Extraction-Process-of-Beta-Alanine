{
 "cells": [
  {
   "cell_type": "code",
   "execution_count": null,
   "id": "a646a2ff-2a6f-4d20-a097-2599292d94db",
   "metadata": {},
   "outputs": [],
   "source": [
    "import numpy as np\n",
    "import pandas as pd\n",
    "import tensorflow as tf\n",
    "from sklearn.model_selection import train_test_split, GridSearchCV\n",
    "from sklearn.metrics import mean_squared_error, r2_score"
   ]
  },
  {
   "cell_type": "code",
   "execution_count": null,
   "id": "ea8365c6-bf11-49ff-96f0-e9f9851c1041",
   "metadata": {},
   "outputs": [],
   "source": [
    "data = pd.read_excel(\"data.xlsx\")"
   ]
  },
  {
   "cell_type": "code",
   "execution_count": null,
   "id": "51a84c3a-9321-4344-ba6b-a3a77832c1bc",
   "metadata": {},
   "outputs": [],
   "source": [
    "X=data.iloc[:,:-1]\n",
    "y=data.iloc[:,-1]"
   ]
  },
  {
   "cell_type": "code",
   "execution_count": null,
   "id": "e2f205db-ae92-4c6d-b243-48250b9e868e",
   "metadata": {},
   "outputs": [],
   "source": [
    "X_train, X_test, y_train, y_test = train_test_split(X, y, test_size=0.2, random_state=1)"
   ]
  },
  {
   "cell_type": "code",
   "execution_count": null,
   "id": "5c127e2d-2bc6-4e44-bd45-58280708a48a",
   "metadata": {},
   "outputs": [],
   "source": [
    "# Create a function to build the model\n",
    "def build_model(hidden_units=100):\n",
    "    model = tf.keras.Sequential([\n",
    "        tf.keras.layers.Dense(hidden_units, activation='relu', input_shape=(X_train.shape[1],)),\n",
    "        tf.keras.layers.Dense(1)  # Output layer with one neuron for regression\n",
    "    ])\n",
    "    model.compile(optimizer='adam', loss='mean_squared_error')\n",
    "    return model"
   ]
  },
  {
   "cell_type": "code",
   "execution_count": null,
   "id": "cc381ab6-a680-4cae-a860-44fb19806f58",
   "metadata": {},
   "outputs": [],
   "source": [
    "# Define the hyperparameters for grid search\n",
    "param_grid = {\n",
    "    'epochs': np.arange(25, 101, 25),           # 50,100 ... 500\n",
    "    'batch_size': [2**i for i in range(3, 7)]  # Powers of 2: 16, 32, 64, 128, 256\n",
    "}"
   ]
  },
  {
   "cell_type": "code",
   "execution_count": null,
   "id": "d2f3f8f4-bf30-4b09-a91a-7506d9a6e097",
   "metadata": {},
   "outputs": [],
   "source": [
    "# Create the KerasRegressor model\n",
    "keras_reg = tf.keras.wrappers.scikit_learn.KerasRegressor(build_fn=build_model)"
   ]
  },
  {
   "cell_type": "code",
   "execution_count": null,
   "id": "e5685fba-548d-4a5b-8085-ebb66cb9da05",
   "metadata": {},
   "outputs": [],
   "source": [
    "# Use GridSearchCV for hyperparameter tuning\n",
    "grid_search = GridSearchCV(estimator=keras_reg, param_grid=param_grid, scoring='neg_mean_squared_error', cv=3, verbose=1)"
   ]
  },
  {
   "cell_type": "code",
   "execution_count": null,
   "id": "5f7623fd-dbeb-4d87-968c-1c9cd1596c68",
   "metadata": {},
   "outputs": [],
   "source": [
    "# Fit the model to the data\n",
    "grid_result = grid_search.fit(X_train, y_train)"
   ]
  },
  {
   "cell_type": "code",
   "execution_count": null,
   "id": "cdfb8a10-3dba-46ab-9467-d2a9c2e9be45",
   "metadata": {},
   "outputs": [],
   "source": [
    "# Get the best parameters from the grid search\n",
    "best_params = grid_result.best_params_\n",
    "print(f'Best Parameters: {best_params}')"
   ]
  },
  {
   "cell_type": "code",
   "execution_count": null,
   "id": "a6146d05-18f7-4524-8608-3c6fb92a5958",
   "metadata": {},
   "outputs": [],
   "source": [
    "# Make predictions on the testing set using the best model\n",
    "y_test_pred = grid_result.predict(X_test)\n",
    "y_train_pred=grid_result.predict(X_train)"
   ]
  },
  {
   "cell_type": "code",
   "execution_count": null,
   "id": "47a05917-9638-418e-92c9-19e5c4c32f7b",
   "metadata": {},
   "outputs": [],
   "source": [
    "# Calculate Mean Squared Error and R-squared\n",
    "mse_train=mean_squared_error(y_train,y_train_pred)\n",
    "r2_train=r2_score(y_train,y_train_pred)\n",
    "mse_test = mean_squared_error(y_test, y_test_pred)\n",
    "r2_test = r2_score(y_test, y_test_pred)"
   ]
  },
  {
   "cell_type": "code",
   "execution_count": null,
   "id": "928d50ad-0414-4199-b507-a5f222dba954",
   "metadata": {},
   "outputs": [],
   "source": [
    "print(f'Training MSE: {mse_train:.2f}, R-squared: {r2_train:.2f}')\n",
    "print(f'Testing MSE: {mse_test:.2f}, R-squared: {r2_test:.2f}')"
   ]
  },
  {
   "cell_type": "code",
   "execution_count": null,
   "id": "2e06c878-7702-4aa6-9d71-2a6da0e7b049",
   "metadata": {},
   "outputs": [],
   "source": []
  }
 ],
 "metadata": {
  "kernelspec": {
   "display_name": "Python 3 (ipykernel)",
   "language": "python",
   "name": "python3"
  },
  "language_info": {
   "codemirror_mode": {
    "name": "ipython",
    "version": 3
   },
   "file_extension": ".py",
   "mimetype": "text/x-python",
   "name": "python",
   "nbconvert_exporter": "python",
   "pygments_lexer": "ipython3",
   "version": "3.9.18"
  }
 },
 "nbformat": 4,
 "nbformat_minor": 5
}
