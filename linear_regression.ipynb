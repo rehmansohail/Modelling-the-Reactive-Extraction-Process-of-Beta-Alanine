{
 "cells": [
  {
   "cell_type": "code",
   "execution_count": 1,
   "id": "f81b2702-cf68-49ac-8034-a80127603c2b",
   "metadata": {},
   "outputs": [],
   "source": [
    "import numpy as np\n",
    "import pandas as pd\n",
    "from sklearn.model_selection import train_test_split"
   ]
  },
  {
   "cell_type": "code",
   "execution_count": 2,
   "id": "b148e455-9b0a-4b48-8b68-156524f336aa",
   "metadata": {},
   "outputs": [],
   "source": [
    "data = pd.read_excel(\"data.xlsx\")"
   ]
  },
  {
   "cell_type": "code",
   "execution_count": 3,
   "id": "bc3e2ecb-0238-4c79-ae98-8a8981c20579",
   "metadata": {},
   "outputs": [
    {
     "data": {
      "text/html": [
       "<div>\n",
       "<style scoped>\n",
       "    .dataframe tbody tr th:only-of-type {\n",
       "        vertical-align: middle;\n",
       "    }\n",
       "\n",
       "    .dataframe tbody tr th {\n",
       "        vertical-align: top;\n",
       "    }\n",
       "\n",
       "    .dataframe thead th {\n",
       "        text-align: right;\n",
       "    }\n",
       "</style>\n",
       "<table border=\"1\" class=\"dataframe\">\n",
       "  <thead>\n",
       "    <tr style=\"text-align: right;\">\n",
       "      <th></th>\n",
       "      <th>D2EHPA concentration</th>\n",
       "      <th>pH</th>\n",
       "      <th>Temperature</th>\n",
       "      <th>b-ala conc (g/L)</th>\n",
       "      <th>Incubation time (H)</th>\n",
       "      <th>Phase ratio</th>\n",
       "      <th>Efficiency</th>\n",
       "    </tr>\n",
       "  </thead>\n",
       "  <tbody>\n",
       "    <tr>\n",
       "      <th>0</th>\n",
       "      <td>10.000</td>\n",
       "      <td>6.580</td>\n",
       "      <td>30.000</td>\n",
       "      <td>100.000</td>\n",
       "      <td>12.000</td>\n",
       "      <td>1.000</td>\n",
       "      <td>13.907744</td>\n",
       "    </tr>\n",
       "    <tr>\n",
       "      <th>1</th>\n",
       "      <td>30.000</td>\n",
       "      <td>6.580</td>\n",
       "      <td>30.000</td>\n",
       "      <td>100.000</td>\n",
       "      <td>12.000</td>\n",
       "      <td>1.000</td>\n",
       "      <td>36.031031</td>\n",
       "    </tr>\n",
       "    <tr>\n",
       "      <th>2</th>\n",
       "      <td>50.000</td>\n",
       "      <td>6.580</td>\n",
       "      <td>30.000</td>\n",
       "      <td>100.000</td>\n",
       "      <td>12.000</td>\n",
       "      <td>1.000</td>\n",
       "      <td>58.257838</td>\n",
       "    </tr>\n",
       "    <tr>\n",
       "      <th>3</th>\n",
       "      <td>60.000</td>\n",
       "      <td>6.580</td>\n",
       "      <td>30.000</td>\n",
       "      <td>100.000</td>\n",
       "      <td>12.000</td>\n",
       "      <td>1.000</td>\n",
       "      <td>65.993744</td>\n",
       "    </tr>\n",
       "    <tr>\n",
       "      <th>4</th>\n",
       "      <td>70.000</td>\n",
       "      <td>6.580</td>\n",
       "      <td>30.000</td>\n",
       "      <td>100.000</td>\n",
       "      <td>12.000</td>\n",
       "      <td>1.000</td>\n",
       "      <td>75.355771</td>\n",
       "    </tr>\n",
       "    <tr>\n",
       "      <th>...</th>\n",
       "      <td>...</td>\n",
       "      <td>...</td>\n",
       "      <td>...</td>\n",
       "      <td>...</td>\n",
       "      <td>...</td>\n",
       "      <td>...</td>\n",
       "      <td>...</td>\n",
       "    </tr>\n",
       "    <tr>\n",
       "      <th>88</th>\n",
       "      <td>73.079</td>\n",
       "      <td>74.079</td>\n",
       "      <td>75.079</td>\n",
       "      <td>76.079</td>\n",
       "      <td>77.079</td>\n",
       "      <td>78.079</td>\n",
       "      <td>79.079000</td>\n",
       "    </tr>\n",
       "    <tr>\n",
       "      <th>89</th>\n",
       "      <td>74.079</td>\n",
       "      <td>75.079</td>\n",
       "      <td>76.079</td>\n",
       "      <td>77.079</td>\n",
       "      <td>78.079</td>\n",
       "      <td>79.079</td>\n",
       "      <td>80.079000</td>\n",
       "    </tr>\n",
       "    <tr>\n",
       "      <th>90</th>\n",
       "      <td>75.079</td>\n",
       "      <td>76.079</td>\n",
       "      <td>77.079</td>\n",
       "      <td>78.079</td>\n",
       "      <td>79.079</td>\n",
       "      <td>80.079</td>\n",
       "      <td>81.079000</td>\n",
       "    </tr>\n",
       "    <tr>\n",
       "      <th>91</th>\n",
       "      <td>76.079</td>\n",
       "      <td>77.079</td>\n",
       "      <td>78.079</td>\n",
       "      <td>79.079</td>\n",
       "      <td>80.079</td>\n",
       "      <td>81.079</td>\n",
       "      <td>82.079000</td>\n",
       "    </tr>\n",
       "    <tr>\n",
       "      <th>92</th>\n",
       "      <td>77.079</td>\n",
       "      <td>78.079</td>\n",
       "      <td>79.079</td>\n",
       "      <td>80.079</td>\n",
       "      <td>81.079</td>\n",
       "      <td>82.079</td>\n",
       "      <td>83.079000</td>\n",
       "    </tr>\n",
       "  </tbody>\n",
       "</table>\n",
       "<p>93 rows × 7 columns</p>\n",
       "</div>"
      ],
      "text/plain": [
       "    D2EHPA concentration      pH  Temperature  b-ala conc (g/L)  \\\n",
       "0                 10.000   6.580       30.000           100.000   \n",
       "1                 30.000   6.580       30.000           100.000   \n",
       "2                 50.000   6.580       30.000           100.000   \n",
       "3                 60.000   6.580       30.000           100.000   \n",
       "4                 70.000   6.580       30.000           100.000   \n",
       "..                   ...     ...          ...               ...   \n",
       "88                73.079  74.079       75.079            76.079   \n",
       "89                74.079  75.079       76.079            77.079   \n",
       "90                75.079  76.079       77.079            78.079   \n",
       "91                76.079  77.079       78.079            79.079   \n",
       "92                77.079  78.079       79.079            80.079   \n",
       "\n",
       "    Incubation time (H)  Phase ratio  Efficiency  \n",
       "0                12.000        1.000   13.907744  \n",
       "1                12.000        1.000   36.031031  \n",
       "2                12.000        1.000   58.257838  \n",
       "3                12.000        1.000   65.993744  \n",
       "4                12.000        1.000   75.355771  \n",
       "..                  ...          ...         ...  \n",
       "88               77.079       78.079   79.079000  \n",
       "89               78.079       79.079   80.079000  \n",
       "90               79.079       80.079   81.079000  \n",
       "91               80.079       81.079   82.079000  \n",
       "92               81.079       82.079   83.079000  \n",
       "\n",
       "[93 rows x 7 columns]"
      ]
     },
     "execution_count": 3,
     "metadata": {},
     "output_type": "execute_result"
    }
   ],
   "source": [
    "data"
   ]
  },
  {
   "cell_type": "code",
   "execution_count": 4,
   "id": "b35783aa-fa52-4140-965d-037e299a5ac3",
   "metadata": {},
   "outputs": [],
   "source": [
    "X=data.iloc[:,:-1]\n",
    "Y=data.iloc[:,-1]"
   ]
  },
  {
   "cell_type": "code",
   "execution_count": 5,
   "id": "c9f43b8d-8075-48bb-a06d-8a0fd37ae35c",
   "metadata": {},
   "outputs": [],
   "source": [
    "X_train, X_test, y_train, y_test = train_test_split(X, Y, test_size=0.2,random_state=1)"
   ]
  },
  {
   "cell_type": "code",
   "execution_count": 6,
   "id": "bda5ddaa-b936-410d-86a7-1bb5a1bd2c3b",
   "metadata": {},
   "outputs": [],
   "source": [
    "from sklearn.linear_model import LinearRegression"
   ]
  },
  {
   "cell_type": "code",
   "execution_count": 7,
   "id": "1a08253f-bcc1-4727-9db3-2f0f5807d016",
   "metadata": {},
   "outputs": [
    {
     "data": {
      "text/html": [
       "<style>#sk-container-id-1 {color: black;}#sk-container-id-1 pre{padding: 0;}#sk-container-id-1 div.sk-toggleable {background-color: white;}#sk-container-id-1 label.sk-toggleable__label {cursor: pointer;display: block;width: 100%;margin-bottom: 0;padding: 0.3em;box-sizing: border-box;text-align: center;}#sk-container-id-1 label.sk-toggleable__label-arrow:before {content: \"▸\";float: left;margin-right: 0.25em;color: #696969;}#sk-container-id-1 label.sk-toggleable__label-arrow:hover:before {color: black;}#sk-container-id-1 div.sk-estimator:hover label.sk-toggleable__label-arrow:before {color: black;}#sk-container-id-1 div.sk-toggleable__content {max-height: 0;max-width: 0;overflow: hidden;text-align: left;background-color: #f0f8ff;}#sk-container-id-1 div.sk-toggleable__content pre {margin: 0.2em;color: black;border-radius: 0.25em;background-color: #f0f8ff;}#sk-container-id-1 input.sk-toggleable__control:checked~div.sk-toggleable__content {max-height: 200px;max-width: 100%;overflow: auto;}#sk-container-id-1 input.sk-toggleable__control:checked~label.sk-toggleable__label-arrow:before {content: \"▾\";}#sk-container-id-1 div.sk-estimator input.sk-toggleable__control:checked~label.sk-toggleable__label {background-color: #d4ebff;}#sk-container-id-1 div.sk-label input.sk-toggleable__control:checked~label.sk-toggleable__label {background-color: #d4ebff;}#sk-container-id-1 input.sk-hidden--visually {border: 0;clip: rect(1px 1px 1px 1px);clip: rect(1px, 1px, 1px, 1px);height: 1px;margin: -1px;overflow: hidden;padding: 0;position: absolute;width: 1px;}#sk-container-id-1 div.sk-estimator {font-family: monospace;background-color: #f0f8ff;border: 1px dotted black;border-radius: 0.25em;box-sizing: border-box;margin-bottom: 0.5em;}#sk-container-id-1 div.sk-estimator:hover {background-color: #d4ebff;}#sk-container-id-1 div.sk-parallel-item::after {content: \"\";width: 100%;border-bottom: 1px solid gray;flex-grow: 1;}#sk-container-id-1 div.sk-label:hover label.sk-toggleable__label {background-color: #d4ebff;}#sk-container-id-1 div.sk-serial::before {content: \"\";position: absolute;border-left: 1px solid gray;box-sizing: border-box;top: 0;bottom: 0;left: 50%;z-index: 0;}#sk-container-id-1 div.sk-serial {display: flex;flex-direction: column;align-items: center;background-color: white;padding-right: 0.2em;padding-left: 0.2em;position: relative;}#sk-container-id-1 div.sk-item {position: relative;z-index: 1;}#sk-container-id-1 div.sk-parallel {display: flex;align-items: stretch;justify-content: center;background-color: white;position: relative;}#sk-container-id-1 div.sk-item::before, #sk-container-id-1 div.sk-parallel-item::before {content: \"\";position: absolute;border-left: 1px solid gray;box-sizing: border-box;top: 0;bottom: 0;left: 50%;z-index: -1;}#sk-container-id-1 div.sk-parallel-item {display: flex;flex-direction: column;z-index: 1;position: relative;background-color: white;}#sk-container-id-1 div.sk-parallel-item:first-child::after {align-self: flex-end;width: 50%;}#sk-container-id-1 div.sk-parallel-item:last-child::after {align-self: flex-start;width: 50%;}#sk-container-id-1 div.sk-parallel-item:only-child::after {width: 0;}#sk-container-id-1 div.sk-dashed-wrapped {border: 1px dashed gray;margin: 0 0.4em 0.5em 0.4em;box-sizing: border-box;padding-bottom: 0.4em;background-color: white;}#sk-container-id-1 div.sk-label label {font-family: monospace;font-weight: bold;display: inline-block;line-height: 1.2em;}#sk-container-id-1 div.sk-label-container {text-align: center;}#sk-container-id-1 div.sk-container {/* jupyter's `normalize.less` sets `[hidden] { display: none; }` but bootstrap.min.css set `[hidden] { display: none !important; }` so we also need the `!important` here to be able to override the default hidden behavior on the sphinx rendered scikit-learn.org. See: https://github.com/scikit-learn/scikit-learn/issues/21755 */display: inline-block !important;position: relative;}#sk-container-id-1 div.sk-text-repr-fallback {display: none;}</style><div id=\"sk-container-id-1\" class=\"sk-top-container\"><div class=\"sk-text-repr-fallback\"><pre>LinearRegression()</pre><b>In a Jupyter environment, please rerun this cell to show the HTML representation or trust the notebook. <br />On GitHub, the HTML representation is unable to render, please try loading this page with nbviewer.org.</b></div><div class=\"sk-container\" hidden><div class=\"sk-item\"><div class=\"sk-estimator sk-toggleable\"><input class=\"sk-toggleable__control sk-hidden--visually\" id=\"sk-estimator-id-1\" type=\"checkbox\" checked><label for=\"sk-estimator-id-1\" class=\"sk-toggleable__label sk-toggleable__label-arrow\">LinearRegression</label><div class=\"sk-toggleable__content\"><pre>LinearRegression()</pre></div></div></div></div></div>"
      ],
      "text/plain": [
       "LinearRegression()"
      ]
     },
     "execution_count": 7,
     "metadata": {},
     "output_type": "execute_result"
    }
   ],
   "source": [
    "model = LinearRegression()\n",
    "model.fit(X_train, y_train)"
   ]
  },
  {
   "cell_type": "code",
   "execution_count": 8,
   "id": "a91d1cdf-435b-4c6e-84da-2cc8efa2151e",
   "metadata": {},
   "outputs": [],
   "source": [
    "y_train_pred = model.predict(X_train)\n",
    "y_test_pred = model.predict(X_test)"
   ]
  },
  {
   "cell_type": "code",
   "execution_count": 9,
   "id": "e7842aaa-07e9-43b0-b30f-750885534ddc",
   "metadata": {},
   "outputs": [],
   "source": [
    "from sklearn.metrics import mean_squared_error, r2_score"
   ]
  },
  {
   "cell_type": "code",
   "execution_count": 10,
   "id": "707f8048-d38a-48da-ad22-b3d3312d4fd6",
   "metadata": {},
   "outputs": [],
   "source": [
    "mse_train = mean_squared_error(y_train, y_train_pred)\n",
    "mse_test = mean_squared_error(y_test, y_test_pred)"
   ]
  },
  {
   "cell_type": "code",
   "execution_count": 11,
   "id": "a1655013-f6d8-47c0-8551-428d7b825e21",
   "metadata": {},
   "outputs": [],
   "source": [
    "r2_train = r2_score(y_train, y_train_pred)\n",
    "r2_test = r2_score(y_test, y_test_pred)"
   ]
  },
  {
   "cell_type": "code",
   "execution_count": 12,
   "id": "7cc206db-667e-4c32-b5fa-c23661291907",
   "metadata": {},
   "outputs": [
    {
     "name": "stdout",
     "output_type": "stream",
     "text": [
      "Training MSE: 25.43, R-squared: 0.91\n",
      "Testing MSE: 25.75, R-squared: 0.92\n"
     ]
    }
   ],
   "source": [
    "print(f'Training MSE: {mse_train:.2f}, R-squared: {r2_train:.2f}')\n",
    "print(f'Testing MSE: {mse_test:.2f}, R-squared: {r2_test:.2f}')"
   ]
  },
  {
   "cell_type": "code",
   "execution_count": 13,
   "id": "6f7946d4-f47e-4c81-8638-3e1c7f62e117",
   "metadata": {},
   "outputs": [],
   "source": [
    "coefficients = model.coef_\n",
    "intercept = model.intercept_"
   ]
  },
  {
   "cell_type": "code",
   "execution_count": 14,
   "id": "10372657-cb23-46b6-92af-d18acdb07cba",
   "metadata": {},
   "outputs": [
    {
     "name": "stdout",
     "output_type": "stream",
     "text": [
      "[ 0.77400916  4.20017686 -0.57236688 -0.0051026   0.01948847 -3.29938861] 12.699337372707433\n"
     ]
    }
   ],
   "source": [
    "print(coefficients,intercept)"
   ]
  },
  {
   "cell_type": "code",
   "execution_count": null,
   "id": "c85dd5e0-c240-4b11-b0b4-e1c95bfa1685",
   "metadata": {},
   "outputs": [],
   "source": []
  }
 ],
 "metadata": {
  "kernelspec": {
   "display_name": "Python 3 (ipykernel)",
   "language": "python",
   "name": "python3"
  },
  "language_info": {
   "codemirror_mode": {
    "name": "ipython",
    "version": 3
   },
   "file_extension": ".py",
   "mimetype": "text/x-python",
   "name": "python",
   "nbconvert_exporter": "python",
   "pygments_lexer": "ipython3",
   "version": "3.9.18"
  }
 },
 "nbformat": 4,
 "nbformat_minor": 5
}
